{
  "nbformat": 4,
  "nbformat_minor": 0,
  "metadata": {
    "colab": {
      "provenance": [],
      "authorship_tag": "ABX9TyPA/lyHMGHaahL+cX/qg7G9",
      "include_colab_link": true
    },
    "kernelspec": {
      "name": "python3",
      "display_name": "Python 3"
    },
    "language_info": {
      "name": "python"
    }
  },
  "cells": [
    {
      "cell_type": "markdown",
      "metadata": {
        "id": "view-in-github",
        "colab_type": "text"
      },
      "source": [
        "<a href=\"https://colab.research.google.com/github/pundircoder/Python-CW/blob/main/Untitled5.ipynb\" target=\"_parent\"><img src=\"https://colab.research.google.com/assets/colab-badge.svg\" alt=\"Open In Colab\"/></a>"
      ]
    },
    {
      "cell_type": "code",
      "execution_count": 2,
      "metadata": {
        "colab": {
          "base_uri": "https://localhost:8080/"
        },
        "id": "_gzaHPnX99ZM",
        "outputId": "94fe5475-1cca-463b-b2ac-a6390cd046a3"
      },
      "outputs": [
        {
          "output_type": "stream",
          "name": "stdout",
          "text": [
            "start \n",
            "\n",
            "Hi\n",
            "Sup\n",
            "finish\n"
          ]
        }
      ],
      "source": [
        "#Functions\n",
        "def func_1():\n",
        "  print(\"Hi\")\n",
        "  print(\"Sup\")\n",
        "\n",
        "print(\"start \\n\")\n",
        "func_1()\n",
        "print(\"finish\")"
      ]
    },
    {
      "cell_type": "code",
      "source": [
        "#Functions\n",
        "def func_1(f_name ,l_name):#name is parameter\n",
        "  print(f\"Hi(f_name)(l_name)\")\n",
        "  print(\"Sup\")\n",
        "\n",
        "print(\"start \\n\")\n",
        "func_1(l_name=\"booby\")\n",
        "print(\"finish\")"
      ],
      "metadata": {
        "id": "dxiWR-Lc_pZb"
      },
      "execution_count": null,
      "outputs": []
    },
    {
      "cell_type": "code",
      "source": [
        "def cost_l(mrp,shipping,discount):\n",
        "  total_cost=(mrp+shipping-discount)\n",
        "  print(total_cost)\n",
        "\n",
        "cost_l(5000,200,100)"
      ],
      "metadata": {
        "colab": {
          "base_uri": "https://localhost:8080/"
        },
        "id": "wjHvgXzeA3nu",
        "outputId": "7b4aaf4c-feb6-4c76-ba83-2d56e8d6f75e"
      },
      "execution_count": 6,
      "outputs": [
        {
          "output_type": "stream",
          "name": "stdout",
          "text": [
            "5100\n"
          ]
        }
      ]
    },
    {
      "cell_type": "code",
      "source": [
        "#WAP to create a func that does arithmetic add, sub , mul ,division\n",
        "def func_cal(f_one ,z_name):\n",
        "  sum=(f_one+z_name)\n",
        "  diff=(f_one-z_name)\n",
        "  product=(f_one*z_name)\n",
        "  div=(f_one/z_name)\n",
        "  print(f\"{sum}\\n{diff}\\n{product}\\n{div}\")\n",
        "\n",
        "func_cal(34,5)"
      ],
      "metadata": {
        "colab": {
          "base_uri": "https://localhost:8080/"
        },
        "id": "uXzHP8OlE-Qy",
        "outputId": "2194ffa8-e111-41e4-8d29-c03b936e9919"
      },
      "execution_count": 11,
      "outputs": [
        {
          "output_type": "stream",
          "name": "stdout",
          "text": [
            "39bhghhuhyu\n",
            "29\n",
            "170\n",
            "6.8\n"
          ]
        }
      ]
    },
    {
      "cell_type": "code",
      "source": [
        "#Wap to form a function which checks wheather the given function is leap year or not\n"
      ],
      "metadata": {
        "id": "6Bd-swL1IuOx"
      },
      "execution_count": null,
      "outputs": []
    },
    {
      "cell_type": "code",
      "source": [
        "#waf to find largest element in a list\n",
        "def func():\n",
        "  a=[1,32,22,12,43,11]\n",
        "  for i in range(0,5):\n",
        "    while a[i]<a[i+1]:\n",
        "\n",
        "      i+=1\n",
        "  print(a[5])\n",
        "\n"
      ],
      "metadata": {
        "id": "t5Ei1TS_Kpmy"
      },
      "execution_count": 13,
      "outputs": []
    }
  ]
}