{
  "nbformat": 4,
  "nbformat_minor": 0,
  "metadata": {
    "colab": {
      "provenance": [],
      "authorship_tag": "ABX9TyNEMps0nByuGsAaXveg57wL",
      "include_colab_link": true
    },
    "kernelspec": {
      "name": "python3",
      "display_name": "Python 3"
    },
    "language_info": {
      "name": "python"
    }
  },
  "cells": [
    {
      "cell_type": "markdown",
      "metadata": {
        "id": "view-in-github",
        "colab_type": "text"
      },
      "source": [
        "<a href=\"https://colab.research.google.com/github/pundircoder/Python-CW/blob/main/Untitled1.ipynb\" target=\"_parent\"><img src=\"https://colab.research.google.com/assets/colab-badge.svg\" alt=\"Open In Colab\"/></a>"
      ]
    },
    {
      "cell_type": "code",
      "source": [
        "#WAP ....\n",
        "a=\"start\"\n",
        "b=\"stop\"\n",
        "c=\"Quit\"\n",
        "d=\"help\"\n",
        "e=input(\"Ener the Command\")\n",
        "if e==a:\n",
        "  print(\"Starting\")\n",
        "elif e==b:\n",
        "  print(\"Stopping\")\n",
        "elif e==c:\n",
        "  print(\"Quitting\")\n",
        "elif e==d:\n",
        "  print(\"No help\")\n",
        "else :\n",
        "  print(\"Enter the correct command\")\n",
        "\n"
      ],
      "metadata": {
        "colab": {
          "base_uri": "https://localhost:8080/"
        },
        "id": "-X05qE6_nPQ4",
        "outputId": "062cecf7-7411-4377-f76b-46d188e33bac"
      },
      "execution_count": 14,
      "outputs": [
        {
          "output_type": "stream",
          "name": "stdout",
          "text": [
            "Ener the Commandstart\n",
            "Starting\n"
          ]
        }
      ]
    },
    {
      "cell_type": "code",
      "source": [],
      "metadata": {
        "id": "62ztHYPztg60"
      },
      "execution_count": null,
      "outputs": []
    }
  ]
}