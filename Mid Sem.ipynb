{
  "nbformat": 4,
  "nbformat_minor": 0,
  "metadata": {
    "colab": {
      "provenance": [],
      "authorship_tag": "ABX9TyOvkfkPzotdglEZlVPuyqpu",
      "include_colab_link": true
    },
    "kernelspec": {
      "name": "python3",
      "display_name": "Python 3"
    },
    "language_info": {
      "name": "python"
    }
  },
  "cells": [
    {
      "cell_type": "markdown",
      "metadata": {
        "id": "view-in-github",
        "colab_type": "text"
      },
      "source": [
        "<a href=\"https://colab.research.google.com/github/pundircoder/Python-CW/blob/main/Mid%20Sem.ipynb\" target=\"_parent\"><img src=\"https://colab.research.google.com/assets/colab-badge.svg\" alt=\"Open In Colab\"/></a>"
      ]
    },
    {
      "cell_type": "code",
      "execution_count": null,
      "metadata": {
        "colab": {
          "base_uri": "https://localhost:8080/"
        },
        "id": "r8IPbxh0bUC6",
        "outputId": "0b40cd7c-1a2d-48d0-96ed-0718f042a5f2"
      },
      "outputs": [
        {
          "output_type": "stream",
          "name": "stdout",
          "text": [
            "Winning rules of the game ROCK PAPER SCISSORS are :\n",
            "Rock vs Paper -> Paper wins \n",
            "Rock vs Scissors -> Rock wins \n",
            "Paper vs Scissors -> Scissors wins \n",
            "\n",
            "Enter your choice \n",
            " 1 - Rock \n",
            " 2 - Paper \n",
            " 3 - Scissors \n",
            "\n"
          ]
        }
      ],
      "source": [
        "import random\n",
        "\n",
        "print('Winning rules of the game ROCK PAPER SCISSORS are :\\n'\n",
        "      'Rock vs Paper -> Paper wins \\n'\n",
        "      'Rock vs Scissors -> Rock wins \\n'\n",
        "      'Paper vs Scissors -> Scissors wins \\n')\n",
        "\n",
        "while True:\n",
        "    print(\"Enter your choice \\n 1 - Rock \\n 2 - Paper \\n 3 - Scissors \\n\")\n",
        "\n",
        "    choice = int(input(\"Enter your choice: \"))\n",
        "\n",
        "    while choice > 3 or choice < 1:\n",
        "        choice = int(input('Enter a valid choice please: '))\n",
        "\n",
        "    if choice == 1:\n",
        "        choice_name = 'Rock'\n",
        "    elif choice == 2:\n",
        "        choice_name = 'Paper'\n",
        "    else:\n",
        "        choice_name = 'Scissors'\n",
        "\n",
        "    print('User choice is:', choice_name)\n",
        "    print('Now it\\'s Computer`s Turn....')\n",
        "\n",
        "    comp_choice = random.randint(1, 3)\n",
        "\n",
        "    while comp_choice == choice:\n",
        "        comp_choice = random.randint(1, 3)\n",
        "\n",
        "    if comp_choice == 1:\n",
        "        comp_choice_name = 'Rock'\n",
        "    elif comp_choice == 2:\n",
        "        comp_choice_name = 'Paper'\n",
        "    else:\n",
        "        comp_choice_name = 'Scissors'\n",
        "\n",
        "    print(\"Computer choice is:\", comp_choice_name)\n",
        "    print(choice_name, 'Vs', comp_choice_name)\n",
        "\n",
        "    if choice == comp_choice:\n",
        "        print('It\\'s a Draw')\n",
        "        result = \"DRAW\"\n",
        "    elif (choice == 1 and comp_choice == 2) or (choice == 2 and comp_choice == 1):\n",
        "        print('Paper wins =>', end=\"\")\n",
        "        result = 'Paper'\n",
        "    elif (choice == 1 and comp_choice == 3) or (choice == 3 and comp_choice == 1):\n",
        "        print('Rock wins =>', end=\"\")\n",
        "        result = 'Rock'\n",
        "    else:\n",
        "        print('Scissors wins =>', end=\"\")\n",
        "        result = 'Scissors'\n",
        "\n",
        "    if result == 'DRAW':\n",
        "        print(\"It's a tie\")\n",
        "    elif result == choice_name:\n",
        "        print(\"You won\")\n",
        "    else:\n",
        "        print(\"Computer won\")\n",
        "\n",
        "    print(\"Do you want to play again? (Y/N)\")\n",
        "    ans = input().lower()\n",
        "    if ans == 'n':\n",
        "        break\n",
        "\n",
        "print(\"Thanks for playing\")\n"
      ]
    },
    {
      "cell_type": "code",
      "source": [],
      "metadata": {
        "id": "glLslzVAbdsR"
      },
      "execution_count": null,
      "outputs": []
    }
  ]
}