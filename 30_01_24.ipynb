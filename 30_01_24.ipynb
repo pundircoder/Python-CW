{
  "nbformat": 4,
  "nbformat_minor": 0,
  "metadata": {
    "colab": {
      "provenance": [],
      "authorship_tag": "ABX9TyNW4r7RtR7/EHiDx4XdAPG0",
      "include_colab_link": true
    },
    "kernelspec": {
      "name": "python3",
      "display_name": "Python 3"
    },
    "language_info": {
      "name": "python"
    }
  },
  "cells": [
    {
      "cell_type": "markdown",
      "metadata": {
        "id": "view-in-github",
        "colab_type": "text"
      },
      "source": [
        "<a href=\"https://colab.research.google.com/github/pundircoder/Python-CW/blob/main/30_01_24.ipynb\" target=\"_parent\"><img src=\"https://colab.research.google.com/assets/colab-badge.svg\" alt=\"Open In Colab\"/></a>"
      ]
    },
    {
      "cell_type": "code",
      "execution_count": 2,
      "metadata": {
        "colab": {
          "base_uri": "https://localhost:8080/"
        },
        "id": "ovx-5KaY9rQ2",
        "outputId": "260f4e95-2948-4bb0-82d6-c842f3300b11"
      },
      "outputs": [
        {
          "output_type": "stream",
          "name": "stdout",
          "text": [
            "hi \\t (:)\n"
          ]
        }
      ],
      "source": [
        "print (R\"hi \\t (:)\")"
      ]
    },
    {
      "cell_type": "code",
      "source": [
        "list = ['a', 'bc' , 78, 1.23]\n",
        "list 2 =['d', 78]\n",
        "print(list)\n",
        "print(list[0] #prints first elements of list\n",
        "print(list[1:3] #prints elements starting from 1st of list\n",
        "print(list) #prints first elements of list\n",
        "print(list) #prints first elements of list\n"
      ],
      "metadata": {
        "id": "frsNCpD-AtYs"
      },
      "execution_count": null,
      "outputs": []
    },
    {
      "cell_type": "code",
      "source": [
        "names=[\"sajid\", \"nadeem\" , \"touseef\" , \"dhahid\" , \"Ram\"]\n",
        "print(names[0])\n",
        "print(names[-4])\n",
        "names[2 ]= \"tia\"\n",
        "print(names[0:3])\n",
        "names .append(\"Ajay\")\n",
        "print(names)\n",
        "\n",
        "names.insert(0, \"Rama\")\n",
        "print(names)\n",
        "\n",
        "names.remove(\"nadeem\")\n",
        "print(names)\n",
        "\n",
        "print(\"sajid\" in names)\n",
        "\n",
        "print(len(names))\n",
        "\n",
        "print(len(names))\n",
        "\n",
        "names.clear()\n",
        "print(names)"
      ],
      "metadata": {
        "colab": {
          "base_uri": "https://localhost:8080/"
        },
        "id": "80Mrm4yZDECp",
        "outputId": "cd2a2db6-af15-4886-d464-e36a8ff6c3a3"
      },
      "execution_count": 5,
      "outputs": [
        {
          "output_type": "stream",
          "name": "stdout",
          "text": [
            "sajid\n",
            "nadeem\n",
            "['sajid', 'nadeem', 'tia']\n",
            "['sajid', 'nadeem', 'tia', 'dhahid', 'Ram', 'Ajay']\n",
            "['Rama', 'sajid', 'nadeem', 'tia', 'dhahid', 'Ram', 'Ajay']\n",
            "['Rama', 'sajid', 'tia', 'dhahid', 'Ram', 'Ajay']\n",
            "True\n",
            "6\n",
            "6\n",
            "[]\n"
          ]
        }
      ]
    },
    {
      "cell_type": "code",
      "source": [
        "#wap to loop through a list\n",
        "##wap to iterate thgrough a string and\n",
        "for i in range (1,11,1):\n",
        "\n",
        " print(\"11 X\",i,\"=\",11*i)\n",
        ""
      ],
      "metadata": {
        "colab": {
          "base_uri": "https://localhost:8080/"
        },
        "id": "NJ_IRycuImly",
        "outputId": "d3edb59c-6ffc-4265-aea6-82690b62e74f"
      },
      "execution_count": 12,
      "outputs": [
        {
          "output_type": "stream",
          "name": "stdout",
          "text": [
            "11 X 1 = 11\n",
            "11 X 2 = 22\n",
            "11 X 3 = 33\n",
            "11 X 4 = 44\n",
            "11 X 5 = 55\n",
            "11 X 6 = 66\n",
            "11 X 7 = 77\n",
            "11 X 8 = 88\n",
            "11 X 9 = 99\n",
            "11 X 10 = 110\n"
          ]
        }
      ]
    },
    {
      "cell_type": "markdown",
      "source": [],
      "metadata": {
        "id": "2QC3n8r3DCGi"
      }
    }
  ]
}