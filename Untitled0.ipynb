{
  "nbformat": 4,
  "nbformat_minor": 0,
  "metadata": {
    "colab": {
      "provenance": [],
      "toc_visible": true,
      "include_colab_link": true
    },
    "kernelspec": {
      "name": "python3",
      "display_name": "Python 3"
    },
    "language_info": {
      "name": "python"
    }
  },
  "cells": [
    {
      "cell_type": "markdown",
      "metadata": {
        "id": "view-in-github",
        "colab_type": "text"
      },
      "source": [
        "<a href=\"https://colab.research.google.com/github/pundircoder/Python-CW/blob/main/Untitled0.ipynb\" target=\"_parent\"><img src=\"https://colab.research.google.com/assets/colab-badge.svg\" alt=\"Open In Colab\"/></a>"
      ]
    },
    {
      "cell_type": "code",
      "execution_count": null,
      "metadata": {
        "colab": {
          "base_uri": "https://localhost:8080/"
        },
        "id": "wJjv2reCZSIp",
        "outputId": "30cdd90c-dd1e-4650-9b4b-5c61ace165a5"
      },
      "outputs": [
        {
          "output_type": "stream",
          "name": "stdout",
          "text": [
            "14\n"
          ]
        }
      ],
      "source": [
        "a=\"5\"\n",
        "b=9\n",
        "sum= int(a)+b\n",
        "print (sum)"
      ]
    },
    {
      "cell_type": "code",
      "source": [],
      "metadata": {
        "id": "A9VsqbxyBcyk"
      },
      "execution_count": null,
      "outputs": []
    },
    {
      "cell_type": "code",
      "source": [
        "name= input(\"Enter your name\")\n",
        "age = input (\"Enter your age\")\n",
        "qual = input(\"Enter your qualifications\")\n",
        "print (\"name is (name)\")\n",
        "print (\"age is (age)\")\n",
        "print (\"qual is (qual)\")"
      ],
      "metadata": {
        "colab": {
          "base_uri": "https://localhost:8080/"
        },
        "id": "QrvitOlngrj_",
        "outputId": "fa8caea2-11e9-4547-9fcd-3d8de32b4a96"
      },
      "execution_count": null,
      "outputs": [
        {
          "output_type": "stream",
          "name": "stdout",
          "text": [
            "Enter your namesam\n",
            "Enter your age45\n",
            "Enter your qualificationsphd\n",
            "name is (name)\n",
            "age is (age)\n",
            "qual is (qual)\n"
          ]
        }
      ]
    },
    {
      "cell_type": "code",
      "source": [
        "course = \"python for data sciences\"\n",
        "print (type(course))\n",
        "print(course)"
      ],
      "metadata": {
        "colab": {
          "base_uri": "https://localhost:8080/"
        },
        "id": "dcQBxwavk1i-",
        "outputId": "eb26fc99-e0b8-4b60-a12e-cda7b75e2276"
      },
      "execution_count": null,
      "outputs": [
        {
          "output_type": "stream",
          "name": "stdout",
          "text": [
            "<class 'str'>\n",
            "python for data sciences\n"
          ]
        }
      ]
    },
    {
      "cell_type": "code",
      "source": [
        "#using operators\n",
        "val1=2\n",
        "val2=4\n",
        "rel=val1+val2\n",
        "print(rel)"
      ],
      "metadata": {
        "colab": {
          "base_uri": "https://localhost:8080/"
        },
        "id": "NZNbGQpjB46q",
        "outputId": "09934255-72ad-49f2-9974-c8ae4c422c73"
      },
      "execution_count": null,
      "outputs": [
        {
          "output_type": "stream",
          "name": "stdout",
          "text": [
            "6\n"
          ]
        }
      ]
    },
    {
      "cell_type": "code",
      "source": [
        "from binascii import b2a_base64\n",
        "a=int(input(\"Enter the first variable/n\"))\n",
        "b=int(input(\"Entter the second variable\"))\n",
        "c=a+b\n",
        "d=a-b\n",
        "e=a*b\n",
        "f=a%b\n",
        "g=a/b\n",
        "h=a//b\n",
        "i=a**b\n",
        "print(c)\n",
        "print(d)\n",
        "print(e)\n",
        "print(f)\n",
        "print(g)\n",
        "print(h)\n",
        "print(i)"
      ],
      "metadata": {
        "colab": {
          "base_uri": "https://localhost:8080/"
        },
        "id": "64Q4AXmdCS56",
        "outputId": "f28f63cc-0d68-4a5d-b174-8d2383fa24de"
      },
      "execution_count": null,
      "outputs": [
        {
          "output_type": "stream",
          "name": "stdout",
          "text": [
            "Enter the first variable/n25\n",
            "Entter the second variable5\n",
            "30\n",
            "20\n",
            "125\n",
            "0\n",
            "5.0\n",
            "5\n",
            "9765625\n"
          ]
        }
      ]
    },
    {
      "cell_type": "code",
      "source": [
        "#python progRam to demonstrate\n",
        "#logical not operator\n",
        "a=10\n",
        "if not a :\n",
        "  print(boollen value of a is true)\n",
        "  if not a:\n",
        "    print(\"10 \")"
      ],
      "metadata": {
        "id": "0OGhvqFPK57k"
      },
      "execution_count": null,
      "outputs": []
    },
    {
      "cell_type": "code",
      "source": [
        "#python program to demonstrate\n",
        "#order of evaluation of logical\n",
        "#operators\n",
        "def order (x)\n",
        "print(\"Method called for value:\" ,x)\n",
        "return true if x>0 else false\n",
        "a=order\n",
        "b=order\n",
        "c=order\n",
        "if"
      ],
      "metadata": {
        "id": "ZcAlmyE-L5Kg"
      },
      "execution_count": null,
      "outputs": []
    },
    {
      "cell_type": "code",
      "source": [
        "#python program to demonstrate\n",
        "#bitwise operator\n",
        "a=10\n",
        "b=4\n",
        "# Print bitwise ANd operator\n",
        "print (\"a & b =\", a|b)\n",
        "#print bitwise NOT operator\n",
        "print (\"~a=\" , ~a)\n",
        "#Print bitwise XOR operator\n",
        "print(\"a^b=\" , a^b)\n"
      ],
      "metadata": {
        "colab": {
          "base_uri": "https://localhost:8080/"
        },
        "id": "tJKpRSB_NOpP",
        "outputId": "cf25d3f1-02ee-4282-a664-b3d5b2ab3cae"
      },
      "execution_count": null,
      "outputs": [
        {
          "output_type": "stream",
          "name": "stdout",
          "text": [
            "a & b = 14\n",
            "~a= -11\n",
            "a^b= 14\n"
          ]
        }
      ]
    },
    {
      "cell_type": "markdown",
      "source": [
        "wap to carry various operations on string\n"
      ],
      "metadata": {
        "id": "bHM7I5lUmDol"
      }
    },
    {
      "cell_type": "code",
      "source": [
        "course =\"python for beginners\"\n",
        "print (\"course\")\n",
        "print (course)"
      ],
      "metadata": {
        "id": "X5_OhO3mmGIc"
      },
      "execution_count": null,
      "outputs": []
    }
  ]
}