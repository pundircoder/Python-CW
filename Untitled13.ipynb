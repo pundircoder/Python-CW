{
  "nbformat": 4,
  "nbformat_minor": 0,
  "metadata": {
    "colab": {
      "provenance": [],
      "authorship_tag": "ABX9TyNW2rntCWj5OjKs3ePCBsJo",
      "include_colab_link": true
    },
    "kernelspec": {
      "name": "python3",
      "display_name": "Python 3"
    },
    "language_info": {
      "name": "python"
    }
  },
  "cells": [
    {
      "cell_type": "markdown",
      "metadata": {
        "id": "view-in-github",
        "colab_type": "text"
      },
      "source": [
        "<a href=\"https://colab.research.google.com/github/pundircoder/Python-CW/blob/main/Untitled13.ipynb\" target=\"_parent\"><img src=\"https://colab.research.google.com/assets/colab-badge.svg\" alt=\"Open In Colab\"/></a>"
      ]
    },
    {
      "cell_type": "code",
      "execution_count": 1,
      "metadata": {
        "colab": {
          "base_uri": "https://localhost:8080/",
          "height": 70
        },
        "id": "n_zKDYvACBqQ",
        "outputId": "d255931e-3b79-4456-c369-4ee56b79b5ca"
      },
      "outputs": [
        {
          "output_type": "execute_result",
          "data": {
            "text/plain": [
              "'import abc\\nfrom abc import ABC,abstract method\\nclass Shapes(ABC):      abstract method.\\n  def Sides(self):\\n    pass\\n  def area(self):\\n    print(\" \")\\nclass Triangle(shapes):\\n  def Sides(def):\\n    print(\" i have three sides)\\n  def area(self):                    method overwriting as area declared in shapes already\\n    print(\"something\")\\n    print(\"area\")'"
            ],
            "application/vnd.google.colaboratory.intrinsic+json": {
              "type": "string"
            }
          },
          "metadata": {},
          "execution_count": 1
        }
      ],
      "source": [
        "#abstract class is that which is only decalred but not implemented.\n",
        "'''import abc\n",
        "from abc import ABC,abstract method\n",
        "class Shapes(ABC):      abstract method.\n",
        "  def Sides(self):\n",
        "    pass\n",
        "  def area(self):\n",
        "    print(\" \")\n",
        "class Triangle(shapes):\n",
        "  def Sides(def):\n",
        "    print(\" i have three sides)\n",
        "  def area(self):                    method overwriting as area declared in shapes already\n",
        "    print(\"something\")\n",
        "    print(\"area\")'''"
      ]
    },
    {
      "cell_type": "code",
      "source": [
        "'''class Triangle(shapes):\n",
        "  def Sides(def):\n",
        "    print(\" i have three sides\")\n",
        "  def area(self):\n",
        "    print(\"something\")\n",
        "    print(\"area\")                      method overloading means diff no of variables means depend on no of variables.\n",
        "  def area(Self,side)\n",
        "    area=side*side\n",
        "    print(area)\n",
        ""
      ],
      "metadata": {
        "colab": {
          "base_uri": "https://localhost:8080/",
          "height": 106
        },
        "id": "fkt-uetiCD_E",
        "outputId": "471aa92d-f714-454f-ebb2-d38f7bdd0040"
      },
      "execution_count": 3,
      "outputs": [
        {
          "output_type": "error",
          "ename": "SyntaxError",
          "evalue": "incomplete input (<ipython-input-3-b26886a90bc8>, line 1)",
          "traceback": [
            "\u001b[0;36m  File \u001b[0;32m\"<ipython-input-3-b26886a90bc8>\"\u001b[0;36m, line \u001b[0;32m1\u001b[0m\n\u001b[0;31m    '''class Triangle(shapes):\u001b[0m\n\u001b[0m    ^\u001b[0m\n\u001b[0;31mSyntaxError\u001b[0m\u001b[0;31m:\u001b[0m incomplete input\n"
          ]
        }
      ]
    }
  ]
}