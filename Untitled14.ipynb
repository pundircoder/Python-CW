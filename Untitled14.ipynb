{
  "nbformat": 4,
  "nbformat_minor": 0,
  "metadata": {
    "colab": {
      "provenance": [],
      "authorship_tag": "ABX9TyPgA0r4z4auudA2DB+skv7B",
      "include_colab_link": true
    },
    "kernelspec": {
      "name": "python3",
      "display_name": "Python 3"
    },
    "language_info": {
      "name": "python"
    }
  },
  "cells": [
    {
      "cell_type": "markdown",
      "metadata": {
        "id": "view-in-github",
        "colab_type": "text"
      },
      "source": [
        "<a href=\"https://colab.research.google.com/github/pundircoder/Python-CW/blob/main/Untitled14.ipynb\" target=\"_parent\"><img src=\"https://colab.research.google.com/assets/colab-badge.svg\" alt=\"Open In Colab\"/></a>"
      ]
    },
    {
      "cell_type": "code",
      "execution_count": 1,
      "metadata": {
        "id": "xEjC1ooqf0sL",
        "outputId": "a687b874-052e-447c-f136-aa0133b00a59",
        "colab": {
          "base_uri": "https://localhost:8080/"
        }
      },
      "outputs": [
        {
          "output_type": "stream",
          "name": "stdout",
          "text": [
            "Good morning engineers\n"
          ]
        }
      ],
      "source": [
        "#note that whan a module is imported in other file if we dont want orwhich we want or not to execute we can use\n",
        "def welcome():\n",
        "  print(\"Good morning engineers\")\n",
        "\n",
        "__name__=\"__main__\"\n",
        "welcome()\n"
      ]
    },
    {
      "cell_type": "code",
      "source": [
        "#Public class\n",
        "class Employee:\n",
        "  Name=\"sajid\"\n",
        "  Email=\"Xyz\"\n",
        "  def __init__(self):\n",
        "    print(self.Name)\n",
        "  def deptt(self):\n",
        "    pass\n",
        "E1=Employee()\n",
        "E1.Name\n",
        "E1.Email"
      ],
      "metadata": {
        "id": "F8dUuRrgf2qS",
        "outputId": "cb61bd61-51eb-4009-a037-a325932b7f94",
        "colab": {
          "base_uri": "https://localhost:8080/",
          "height": 53
        }
      },
      "execution_count": 2,
      "outputs": [
        {
          "output_type": "stream",
          "name": "stdout",
          "text": [
            "sajid\n"
          ]
        },
        {
          "output_type": "execute_result",
          "data": {
            "text/plain": [
              "'Xyz'"
            ],
            "application/vnd.google.colaboratory.intrinsic+json": {
              "type": "string"
            }
          },
          "metadata": {},
          "execution_count": 2
        }
      ]
    },
    {
      "cell_type": "code",
      "source": [
        "#Private class\n",
        "class Employee:\n",
        "  __Name=\"sajid\"\n",
        "  __Email=\"Xyz\"\n",
        "  def __init__(self):\n",
        "    print(self.__Name)\n",
        "  def __deptt(self):\n",
        "    print(self.Name)\n",
        "E2=Employee()\n",
        "#E2.__Name    error as name is private\n",
        "#E2.__Email\n",
        "E2._Employee__Name    #to access private data\n",
        "#E2._Employee()__Name\n",
        ""
      ],
      "metadata": {
        "id": "b-fzObzsf-tT",
        "outputId": "83aeed6e-ce1a-4843-c379-62f72715502a",
        "colab": {
          "base_uri": "https://localhost:8080/",
          "height": 53
        }
      },
      "execution_count": 3,
      "outputs": [
        {
          "output_type": "stream",
          "name": "stdout",
          "text": [
            "sajid\n"
          ]
        },
        {
          "output_type": "execute_result",
          "data": {
            "text/plain": [
              "'sajid'"
            ],
            "application/vnd.google.colaboratory.intrinsic+json": {
              "type": "string"
            }
          },
          "metadata": {},
          "execution_count": 3
        }
      ]
    }
  ]
}