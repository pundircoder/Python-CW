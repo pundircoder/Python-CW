{
  "nbformat": 4,
  "nbformat_minor": 0,
  "metadata": {
    "colab": {
      "provenance": [],
      "authorship_tag": "ABX9TyN+Pqi37SvgM1D1BIjYESwg",
      "include_colab_link": true
    },
    "kernelspec": {
      "name": "python3",
      "display_name": "Python 3"
    },
    "language_info": {
      "name": "python"
    }
  },
  "cells": [
    {
      "cell_type": "markdown",
      "metadata": {
        "id": "view-in-github",
        "colab_type": "text"
      },
      "source": [
        "<a href=\"https://colab.research.google.com/github/pundircoder/Python-CW/blob/main/Untitled12.ipynb\" target=\"_parent\"><img src=\"https://colab.research.google.com/assets/colab-badge.svg\" alt=\"Open In Colab\"/></a>"
      ]
    },
    {
      "cell_type": "code",
      "execution_count": 5,
      "metadata": {
        "id": "IGcIzDbbUUJc"
      },
      "outputs": [],
      "source": [
        "class Employee:\n",
        "    def __init__(self, name, ID):\n",
        "        self.n = name\n",
        "        self.I = ID\n",
        "        self.m = self.Member()\n",
        "\n",
        "    def show(self):\n",
        "        print(self.n, self.I)\n",
        "\n",
        "    class Member:\n",
        "        def __init__(self):\n",
        "            print(\"I am the Activity Coordinator of $th sem\")\n",
        "\n",
        "        def show(self):\n",
        "            print(\"Something\")\n",
        "E1=Employee(\"SIdd\",50024342)\n",
        "E1.show()\n",
        "E1.M.show()"
      ]
    },
    {
      "cell_type": "code",
      "source": [
        "class Parents:\n",
        "    def property(self):\n",
        "        print(\"I have property worth 1 billion\")\n",
        "\n",
        "class Son(Parents):\n",
        "    def property(self):\n",
        "        print(\"I have nothing\")\n",
        "\n",
        "class Daughter(Parents):\n",
        "    def property(self):\n",
        "        print(\"I am settled abroad\")\n",
        "S1=Son()\n",
        "S1.value()\n",
        "d1=Daughter()\n",
        "d1.property()\n",
        "\n"
      ],
      "metadata": {
        "id": "4APBSJg_XtKP"
      },
      "execution_count": 7,
      "outputs": []
    },
    {
      "cell_type": "code",
      "source": [
        "#WAP TO Create two classes for the same object.the first class is studient and second class is member\n",
        "#we have to pass the student details and print the results from both class using only single object.\n",
        "\n",
        "class student:\n",
        "  def __init__(self,name,Id):\n",
        "    self.n=name\n",
        "    self.I=Id\n",
        "    self.V=self.member()\n",
        "  def view(self):\n",
        "    print(self.n,self.I)\n",
        "  class member:\n",
        "   def __init__(self):\n",
        "     print(\"I am the student of Upes\")\n",
        "   def view(self):\n",
        "     print(\"Hello World\")\n",
        "s1=student(\"Siddhant\",500123846)\n",
        "s1.view()\n",
        "s1.V.view()"
      ],
      "metadata": {
        "id": "0r4yRnFpYZ0h"
      },
      "execution_count": 10,
      "outputs": []
    },
    {
      "cell_type": "code",
      "source": [
        "#Wap to create a rectangle class that prints that consists of two methods or func\n",
        "\n",
        "class Rectangle:\n",
        "  def __init__(self,Length,Breadth):\n",
        "    self.L=Length\n",
        "    self.B=Breadth\n",
        "    self.V=self.inner()\n",
        "  def area(self):\n",
        "   print(self.L*self.B)\n",
        "  class inner():\n",
        "    def Perimeter(self):\n",
        "      print(2*(self.L+self.B))\n",
        "\n",
        "R1=Rectangle(4,5)\n",
        "R1.area()\n",
        "#R1.V.Perimeter()\n"
      ],
      "metadata": {
        "id": "F6HNPQuyb0RP"
      },
      "execution_count": null,
      "outputs": []
    }
  ]
}